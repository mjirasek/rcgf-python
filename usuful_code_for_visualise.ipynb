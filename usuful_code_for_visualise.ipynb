{
 "cells": [
  {
   "cell_type": "code",
   "execution_count": null,
   "metadata": {},
   "outputs": [],
   "source": [
    "import py3Dmol\n",
    "from rcm import area\n",
    "from importlib import reload\n",
    "# from sympy import Polygon\n",
    "from rdkit import Chem\n"
   ]
  },
  {
   "cell_type": "code",
   "execution_count": null,
   "metadata": {},
   "outputs": [],
   "source": [
    "# [i*j for i,j in zip(a,b)]"
   ]
  },
  {
   "cell_type": "code",
   "execution_count": null,
   "metadata": {},
   "outputs": [],
   "source": [
    "# xyz_view = py3Dmol.view(\n",
    "#     data=Chem.MolToMolBlock(self.mol), \n",
    "#     style={\"stick\": {}, \"sphere\": {\"scale\": 0.25}},\n",
    "#     width=400,height=400,\n",
    "#     )\n",
    "# xyz_view.zoomTo()"
   ]
  },
  {
   "cell_type": "code",
   "execution_count": null,
   "metadata": {},
   "outputs": [],
   "source": [
    "# #Calculate area\n",
    "# import pyny3d.geoms as pyny\n",
    "\n",
    "# coords_3d = np.array([\n",
    "#                     [0,  0, 0],\n",
    "#                     [2,  0, 0],\n",
    "#                     [2,  0, 2],\n",
    "#                     [0,  0, 2]\n",
    "#                     ])\n",
    "# polygon = pyny.Polygon(coords_3d)\n",
    "# print(f'Area is : {polygon.get_area()}')"
   ]
  }
 ],
 "metadata": {
  "kernelspec": {
   "display_name": "Python 3",
   "language": "python",
   "name": "python3"
  },
  "language_info": {
   "name": "python",
   "version": "3.9.13"
  },
  "orig_nbformat": 4,
  "vscode": {
   "interpreter": {
    "hash": "af21622c0991cae520315be9696d9a0328ebac21d524c033859b1cde267b297c"
   }
  }
 },
 "nbformat": 4,
 "nbformat_minor": 2
}
