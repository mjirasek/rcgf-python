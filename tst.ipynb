{
 "cells": [
  {
   "cell_type": "code",
   "execution_count": 1,
   "metadata": {},
   "outputs": [],
   "source": [
    "from rdkit import Chem\n",
    "import pandas as pd\n",
    "import numpy as np\n",
    "\n",
    "import rcm\n",
    "from typing import Iterable"
   ]
  },
  {
   "cell_type": "code",
   "execution_count": 3,
   "metadata": {},
   "outputs": [
    {
     "data": {
      "text/plain": [
       "(0.3578001235789995, 0.0, 0.0)"
      ]
     },
     "execution_count": 3,
     "metadata": {},
     "output_type": "execute_result"
    }
   ],
   "source": [
    "# rcm.B(0,1,2,3,4,0,1,2,4,5,2)"
   ]
  },
  {
   "cell_type": "code",
   "execution_count": 48,
   "metadata": {},
   "outputs": [],
   "source": [
    "# provide path and get me pd of connectivity\n",
    "def connectivity_reader(filepath: str) -> pd.DataFrame:\n",
    "  return (\n",
    "    pd.read_csv(\n",
    "    filepath, header=None, \n",
    "    names = ['current_weight', 'start','end']\n",
    "    )\n",
    "  )\n",
    "\n",
    "def get_xyz(filepath: str) -> pd.DataFrame:\n",
    "  def count_iterable(i: Iterable) -> int:\n",
    "    return sum(1 for e in i)\n",
    "  mol = Chem.rdmolfiles.MolFromXYZFile(filepath)\n",
    "\n",
    "  df_xyz = pd.DataFrame(\n",
    "    np.nan, \n",
    "    columns=['atom', 'x', 'y', 'z'], \n",
    "    index=np.arange(count_iterable(mol.GetAtoms()))\n",
    "  )\n",
    "\n",
    "  for i,atom in enumerate(mol.GetAtoms()): \n",
    "    positions = mol.GetConformer().GetAtomPosition(i)\n",
    "    df_xyz.at[i,'atom'] = atom.GetSymbol()\n",
    "    df_xyz.at[i,'x'] = positions.x\n",
    "    df_xyz.at[i,'y'] = positions.y\n",
    "    df_xyz.at[i,'z'] = positions.z\n",
    "\n",
    "  return df_xyz\n",
    "  "
   ]
  },
  {
   "cell_type": "code",
   "execution_count": 18,
   "metadata": {},
   "outputs": [],
   "source": [
    "file_path_connectivity_table = 'cp6t6_0p_blyp35_geom_connectivity_global.csv'\n",
    "conn = connectivity_reader(file_path_connectivity_table)\n",
    "xyz_file_path = 'cp6t6_0p_blyp35_geom.xyz'\n",
    "xyz = get_xyz(xyz_file_path)"
   ]
  },
  {
   "cell_type": "code",
   "execution_count": null,
   "metadata": {},
   "outputs": [],
   "source": []
  },
  {
   "cell_type": "code",
   "execution_count": null,
   "metadata": {},
   "outputs": [],
   "source": [
    "# so best is gonna be one function, taking xyz and conn and xyz where to assess"
   ]
  },
  {
   "cell_type": "code",
   "execution_count": null,
   "metadata": {},
   "outputs": [],
   "source": []
  },
  {
   "cell_type": "code",
   "execution_count": 95,
   "metadata": {},
   "outputs": [],
   "source": [
    "def bar(xyz: pd.DataFrame, conn: pd.DataFrame) -> tuple[float]:\n",
    "  a2 = xyz.x[conn.start]\n",
    "  b2 = xyz.y[conn.start]\n",
    "  c2 = xyz.z[conn.start]\n",
    "\n",
    "  a1 = xyz.x[conn.end] - a2\n",
    "  b1 = xyz.y[conn.end] - b2\n",
    "  c1 = xyz.z[conn.end] - c2\n",
    "  J = conn.current_weight\n",
    "\n",
    "  return a1,a2,b1,b2,c1,c2,J\n",
    "\n",
    "a1,a2,b1,b2,c1,c2,J = bar(xyz,conn)"
   ]
  },
  {
   "cell_type": "code",
   "execution_count": 96,
   "metadata": {},
   "outputs": [
    {
     "data": {
      "text/plain": [
       "0      0.50\n",
       "1      0.25\n",
       "2      0.25\n",
       "3      0.25\n",
       "4      0.25\n",
       "       ... \n",
       "193    1.00\n",
       "194    1.00\n",
       "195    1.00\n",
       "196    1.00\n",
       "197    1.00\n",
       "Name: current_weight, Length: 198, dtype: float64"
      ]
     },
     "execution_count": 96,
     "metadata": {},
     "output_type": "execute_result"
    }
   ],
   "source": [
    "J"
   ]
  },
  {
   "cell_type": "code",
   "execution_count": null,
   "metadata": {},
   "outputs": [],
   "source": []
  },
  {
   "cell_type": "code",
   "execution_count": null,
   "metadata": {},
   "outputs": [],
   "source": []
  },
  {
   "cell_type": "code",
   "execution_count": 92,
   "metadata": {},
   "outputs": [
    {
     "data": {
      "text/plain": [
       "79   -12.834856\n",
       "81   -10.277212\n",
       "85    -9.299362\n",
       "93   -11.560973\n",
       "81   -10.277212\n",
       "        ...    \n",
       "80   -10.247040\n",
       "78   -10.664779\n",
       "76   -11.483450\n",
       "75   -12.476036\n",
       "77   -12.740943\n",
       "Name: x, Length: 198, dtype: float64"
      ]
     },
     "execution_count": 92,
     "metadata": {},
     "output_type": "execute_result"
    }
   ],
   "source": [
    "xyz.x[conn.start]"
   ]
  },
  {
   "cell_type": "code",
   "execution_count": 93,
   "metadata": {},
   "outputs": [
    {
     "data": {
      "text/plain": [
       "198"
      ]
     },
     "execution_count": 93,
     "metadata": {},
     "output_type": "execute_result"
    }
   ],
   "source": [
    "len(conn)"
   ]
  },
  {
   "cell_type": "code",
   "execution_count": 94,
   "metadata": {},
   "outputs": [
    {
     "data": {
      "text/plain": [
       "480"
      ]
     },
     "execution_count": 94,
     "metadata": {},
     "output_type": "execute_result"
    }
   ],
   "source": [
    "len(xyz)\n"
   ]
  },
  {
   "cell_type": "code",
   "execution_count": null,
   "metadata": {},
   "outputs": [],
   "source": []
  },
  {
   "cell_type": "code",
   "execution_count": null,
   "metadata": {},
   "outputs": [],
   "source": []
  },
  {
   "cell_type": "code",
   "execution_count": null,
   "metadata": {},
   "outputs": [],
   "source": []
  },
  {
   "cell_type": "code",
   "execution_count": null,
   "metadata": {},
   "outputs": [],
   "source": []
  },
  {
   "cell_type": "code",
   "execution_count": 83,
   "metadata": {},
   "outputs": [],
   "source": [
    "def foo(xyz: pd.DataFrame, conn: pd.DataFrame, index: int) -> tuple[float]:\n",
    "  a2 = xyz.x[conn.start[index]]\n",
    "  b2 = xyz.y[conn.start[index]]\n",
    "  c2 = xyz.z[conn.start[index]]\n",
    "\n",
    "  a1 = xyz.x[conn.end[index]] - a2\n",
    "  b1 = xyz.y[conn.end[index]] - b2\n",
    "  c1 = xyz.z[conn.end[index]] - c2\n",
    "  J = conn.current_weight[index]\n",
    "\n",
    "  return a1,a2,b1,b2,c1,c2,J\n",
    "  "
   ]
  },
  {
   "cell_type": "code",
   "execution_count": 84,
   "metadata": {},
   "outputs": [],
   "source": [
    "a1,a2,b1,b2,c1,c2,J = foo(xyz,conn,0)"
   ]
  },
  {
   "cell_type": "code",
   "execution_count": 87,
   "metadata": {},
   "outputs": [],
   "source": [
    "def get_ind_B(x,y,z):\n",
    "  return rcm.B(a1,a2,b1,b2,c1,c2,x,y,z,J,1)\n"
   ]
  },
  {
   "cell_type": "code",
   "execution_count": 88,
   "metadata": {},
   "outputs": [
    {
     "data": {
      "text/plain": [
       "(2.5744011916732584e-05, 0.00031938658455955355, -0.0017721921634852168)"
      ]
     },
     "execution_count": 88,
     "metadata": {},
     "output_type": "execute_result"
    }
   ],
   "source": [
    "get_ind_B(0,0,0)"
   ]
  },
  {
   "cell_type": "code",
   "execution_count": null,
   "metadata": {},
   "outputs": [],
   "source": []
  },
  {
   "cell_type": "code",
   "execution_count": null,
   "metadata": {},
   "outputs": [],
   "source": []
  },
  {
   "cell_type": "code",
   "execution_count": 86,
   "metadata": {},
   "outputs": [
    {
     "data": {
      "text/plain": [
       "(2.5744011916732584e-05, 0.00031938658455955355, -0.0017721921634852168)"
      ]
     },
     "execution_count": 86,
     "metadata": {},
     "output_type": "execute_result"
    }
   ],
   "source": [
    "rcm.B(a1,a2,b1,b2,c1,c2,0,0,0,J,1)"
   ]
  },
  {
   "cell_type": "code",
   "execution_count": null,
   "metadata": {},
   "outputs": [],
   "source": []
  },
  {
   "cell_type": "code",
   "execution_count": null,
   "metadata": {},
   "outputs": [],
   "source": []
  },
  {
   "cell_type": "code",
   "execution_count": null,
   "metadata": {},
   "outputs": [],
   "source": []
  },
  {
   "cell_type": "code",
   "execution_count": null,
   "metadata": {},
   "outputs": [],
   "source": []
  },
  {
   "cell_type": "code",
   "execution_count": 53,
   "metadata": {},
   "outputs": [
    {
     "data": {
      "text/html": [
       "<div>\n",
       "<style scoped>\n",
       "    .dataframe tbody tr th:only-of-type {\n",
       "        vertical-align: middle;\n",
       "    }\n",
       "\n",
       "    .dataframe tbody tr th {\n",
       "        vertical-align: top;\n",
       "    }\n",
       "\n",
       "    .dataframe thead th {\n",
       "        text-align: right;\n",
       "    }\n",
       "</style>\n",
       "<table border=\"1\" class=\"dataframe\">\n",
       "  <thead>\n",
       "    <tr style=\"text-align: right;\">\n",
       "      <th></th>\n",
       "      <th>current_weight</th>\n",
       "      <th>start</th>\n",
       "      <th>end</th>\n",
       "    </tr>\n",
       "  </thead>\n",
       "  <tbody>\n",
       "    <tr>\n",
       "      <th>0</th>\n",
       "      <td>0.50</td>\n",
       "      <td>79</td>\n",
       "      <td>81</td>\n",
       "    </tr>\n",
       "    <tr>\n",
       "      <th>1</th>\n",
       "      <td>0.25</td>\n",
       "      <td>81</td>\n",
       "      <td>85</td>\n",
       "    </tr>\n",
       "    <tr>\n",
       "      <th>2</th>\n",
       "      <td>0.25</td>\n",
       "      <td>85</td>\n",
       "      <td>93</td>\n",
       "    </tr>\n",
       "    <tr>\n",
       "      <th>3</th>\n",
       "      <td>0.25</td>\n",
       "      <td>93</td>\n",
       "      <td>95</td>\n",
       "    </tr>\n",
       "    <tr>\n",
       "      <th>4</th>\n",
       "      <td>0.25</td>\n",
       "      <td>81</td>\n",
       "      <td>86</td>\n",
       "    </tr>\n",
       "    <tr>\n",
       "      <th>...</th>\n",
       "      <td>...</td>\n",
       "      <td>...</td>\n",
       "      <td>...</td>\n",
       "    </tr>\n",
       "    <tr>\n",
       "      <th>193</th>\n",
       "      <td>1.00</td>\n",
       "      <td>80</td>\n",
       "      <td>78</td>\n",
       "    </tr>\n",
       "    <tr>\n",
       "      <th>194</th>\n",
       "      <td>1.00</td>\n",
       "      <td>78</td>\n",
       "      <td>76</td>\n",
       "    </tr>\n",
       "    <tr>\n",
       "      <th>195</th>\n",
       "      <td>1.00</td>\n",
       "      <td>76</td>\n",
       "      <td>75</td>\n",
       "    </tr>\n",
       "    <tr>\n",
       "      <th>196</th>\n",
       "      <td>1.00</td>\n",
       "      <td>75</td>\n",
       "      <td>77</td>\n",
       "    </tr>\n",
       "    <tr>\n",
       "      <th>197</th>\n",
       "      <td>1.00</td>\n",
       "      <td>77</td>\n",
       "      <td>79</td>\n",
       "    </tr>\n",
       "  </tbody>\n",
       "</table>\n",
       "<p>198 rows × 3 columns</p>\n",
       "</div>"
      ],
      "text/plain": [
       "     current_weight  start  end\n",
       "0              0.50     79   81\n",
       "1              0.25     81   85\n",
       "2              0.25     85   93\n",
       "3              0.25     93   95\n",
       "4              0.25     81   86\n",
       "..              ...    ...  ...\n",
       "193            1.00     80   78\n",
       "194            1.00     78   76\n",
       "195            1.00     76   75\n",
       "196            1.00     75   77\n",
       "197            1.00     77   79\n",
       "\n",
       "[198 rows x 3 columns]"
      ]
     },
     "execution_count": 53,
     "metadata": {},
     "output_type": "execute_result"
    }
   ],
   "source": [
    "conn"
   ]
  },
  {
   "cell_type": "code",
   "execution_count": null,
   "metadata": {},
   "outputs": [],
   "source": []
  },
  {
   "cell_type": "code",
   "execution_count": null,
   "metadata": {},
   "outputs": [],
   "source": []
  },
  {
   "cell_type": "code",
   "execution_count": null,
   "metadata": {},
   "outputs": [],
   "source": []
  },
  {
   "cell_type": "code",
   "execution_count": null,
   "metadata": {},
   "outputs": [],
   "source": []
  },
  {
   "cell_type": "code",
   "execution_count": null,
   "metadata": {},
   "outputs": [],
   "source": []
  },
  {
   "cell_type": "code",
   "execution_count": null,
   "metadata": {},
   "outputs": [],
   "source": []
  },
  {
   "cell_type": "code",
   "execution_count": 52,
   "metadata": {},
   "outputs": [],
   "source": [
    "# df_M = pd.DataFrame(\n",
    "#   np.nan, \n",
    "#   columns=[\n",
    "#     'a1', 'a2', \n",
    "#     'b1', 'b2', \n",
    "#     'c1', 'c2', \n",
    "#     'J'], \n",
    "#   index=np.arange(len(conn))\n",
    "# )\n",
    "\n",
    "# df_M\n"
   ]
  },
  {
   "cell_type": "code",
   "execution_count": 34,
   "metadata": {},
   "outputs": [],
   "source": [
    "a2 = xyz.x[conn.start[0]]\n",
    "b2 = xyz.y[conn.start[0]]\n",
    "c2 = xyz.z[conn.start[0]]\n",
    "\n",
    "a1 = xyz.x[conn.end[0]] - a2\n",
    "b1 = xyz.y[conn.end[0]] - b2\n",
    "c1 = xyz.z[conn.end[0]] - c2\n",
    "\n",
    "J = conn.current_weight[0]"
   ]
  },
  {
   "cell_type": "code",
   "execution_count": 36,
   "metadata": {},
   "outputs": [
    {
     "data": {
      "text/plain": [
       "(2.5744011916732584e-05, 0.00031938658455955355, -0.0017721921634852168)"
      ]
     },
     "execution_count": 36,
     "metadata": {},
     "output_type": "execute_result"
    }
   ],
   "source": [
    "rcm.B(a1,a2,b1,b2,c1,c2,0,0,0,J,1)"
   ]
  },
  {
   "cell_type": "code",
   "execution_count": null,
   "metadata": {},
   "outputs": [],
   "source": []
  },
  {
   "cell_type": "code",
   "execution_count": null,
   "metadata": {},
   "outputs": [],
   "source": []
  },
  {
   "cell_type": "code",
   "execution_count": null,
   "metadata": {},
   "outputs": [],
   "source": []
  },
  {
   "cell_type": "code",
   "execution_count": null,
   "metadata": {},
   "outputs": [],
   "source": []
  },
  {
   "cell_type": "code",
   "execution_count": null,
   "metadata": {},
   "outputs": [],
   "source": [
    "file_path_list_of_spectator_atoms = 'cp6t6_0p_blyp35_geom_atoms.csv'"
   ]
  },
  {
   "cell_type": "code",
   "execution_count": null,
   "metadata": {},
   "outputs": [],
   "source": [
    "import csv\n",
    "with open(file_path_list_of_spectator_atoms, mode ='r')as file:\n",
    "  csvFile = csv.reader(file)\n",
    "  for lines in csvFile:\n",
    "    print(lines)\n",
    "    for i in lines:\n",
    "      print(i)\n",
    "    break"
   ]
  },
  {
   "cell_type": "code",
   "execution_count": null,
   "metadata": {},
   "outputs": [],
   "source": [
    "def check_if_current_flow_conserved(df: pd.DataFrame) -> bool:\n",
    "\n",
    "  # first basic check if the dataframe has 3 columns.\n",
    "  assert df.shape[1] == 3, (\n",
    "    f\"The connectivity dataframe has {df.shape[1]}\"\n",
    "    f\" columns, exactly 3 are required.\"\n",
    "  )\n",
    "  \n",
    "  # check if all columns are named as they should\n",
    "  for i in ['start','end','current_weight']:\n",
    "    assert i in df.columns, (\n",
    "      f\"The connectivity dataframe does not contain\" \n",
    "      f\" expected column of name {i}.\"\n",
    "    )\n",
    "\n",
    "  # check all numbers in columns two and three\n",
    "  combined_list = pd.concat([df.start, df.end], axis=0).unique()\n",
    "\n",
    "  for i in combined_list:\n",
    "    # check how many goes in and out\n",
    "    current_in_out_balanced = (\n",
    "        sum(df.loc[df.end == i,'current_weight']) - \n",
    "        sum(df.loc[df.start == i,'current_weight'])\n",
    "      ) == 0\n",
    "    assert current_in_out_balanced, (\n",
    "        f'Current flowing in and out '\n",
    "        f'of node with index {i} '\n",
    "        f'is not conserved. '\n",
    "    )\n"
   ]
  },
  {
   "cell_type": "code",
   "execution_count": null,
   "metadata": {},
   "outputs": [],
   "source": [
    "check_if_current_flow_conserved(df)"
   ]
  },
  {
   "cell_type": "code",
   "execution_count": null,
   "metadata": {},
   "outputs": [],
   "source": [
    "# import numpy as np\n",
    "# import tkinter as tk\n",
    "# from tkinter import filedialog\n",
    "# import pandas as pd\n",
    "\n",
    "# root = tk.Tk()\n",
    "# root.withdraw()\n",
    "\n",
    "# # file_path = filedialog.askopenfilename(\n",
    "# #   title=\"Select geometry xyz file.\",\n",
    "# #   initialdir='.',\n",
    "# #   filetypes=(\n",
    "# #       # (\"jpeg files\", \"*.jpg\"),\n",
    "# #       # (\"csv files\", \"*.csv\"),\n",
    "# #       (\"xyz files\", \"*.xyz\"),\n",
    "# #       (\"gif files\", \"*.gif*\")\n",
    "# #       # (\"png files\", \"*.png\")\n",
    "# #     )\n",
    "# #   )\n"
   ]
  }
 ],
 "metadata": {
  "kernelspec": {
   "display_name": "rcm",
   "language": "python",
   "name": "python3"
  },
  "language_info": {
   "codemirror_mode": {
    "name": "ipython",
    "version": 3
   },
   "file_extension": ".py",
   "mimetype": "text/x-python",
   "name": "python",
   "nbconvert_exporter": "python",
   "pygments_lexer": "ipython3",
   "version": "3.11.1"
  },
  "orig_nbformat": 4,
  "vscode": {
   "interpreter": {
    "hash": "4cf84784fcfd77042e78d1faaa64f0694e52e585de48d4a030b65137e955b851"
   }
  }
 },
 "nbformat": 4,
 "nbformat_minor": 2
}
