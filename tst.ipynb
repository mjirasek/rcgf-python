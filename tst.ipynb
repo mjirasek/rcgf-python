{
 "cells": [
  {
   "cell_type": "code",
   "execution_count": 1,
   "metadata": {},
   "outputs": [
    {
     "name": "stdout",
     "output_type": "stream",
     "text": [
      "RCM module loaded.\n"
     ]
    }
   ],
   "source": [
    "from rdkit import Chem\n",
    "import pandas as pd\n",
    "import numpy as np\n",
    "from sympy import Polygon\n",
    "from rcm import area\n",
    "\n",
    "\n",
    "from importlib import reload\n",
    "import py3Dmol\n",
    "import rcm\n",
    "file_path_connectivity_table = 'cp6t6_0p_blyp35_geom_connectivity_global.csv'\n",
    "xyz_file_path = 'cp6t6_0p_blyp35_geom.xyz'"
   ]
  },
  {
   "attachments": {},
   "cell_type": "markdown",
   "metadata": {},
   "source": [
    "probably store xyz in pandas as x, y, z insted of numpy array. one can than easily add extra column of the B fileds associated"
   ]
  },
  {
   "cell_type": "code",
   "execution_count": 2,
   "metadata": {},
   "outputs": [
    {
     "data": {
      "text/plain": [
       "(-0.00024249773139057565, 6.188696569053395e-05, -0.4725764140248075)"
      ]
     },
     "execution_count": 2,
     "metadata": {},
     "output_type": "execute_result"
    }
   ],
   "source": [
    "self = rcm.RCM(xyz_file_path,file_path_connectivity_table)\n",
    "mol = self.mol\n",
    "mol = Chem.RWMol(mol)\n",
    "self.get_B(0,0,0)"
   ]
  },
  {
   "cell_type": "code",
   "execution_count": 3,
   "metadata": {},
   "outputs": [],
   "source": [
    "coords_3d = np.array([\n",
    "            [ 0,  0, 0],\n",
    "            [ 2,  0, 0],\n",
    "            [ 2,  2, 0],\n",
    "            [ 0,  2, 0],\n",
    "            [ 0, -2, 0],\n",
    "            [-2, -2, 0],\n",
    "            [-5,  0, 0],\n",
    "            ])"
   ]
  },
  {
   "cell_type": "code",
   "execution_count": 4,
   "metadata": {},
   "outputs": [
    {
     "data": {
      "text/plain": [
       "(10, 10, -3.0)"
      ]
     },
     "execution_count": 4,
     "metadata": {},
     "output_type": "execute_result"
    }
   ],
   "source": [
    "area.area_3d(coords_3d)"
   ]
  },
  {
   "cell_type": "code",
   "execution_count": 5,
   "metadata": {},
   "outputs": [
    {
     "name": "stdout",
     "output_type": "stream",
     "text": [
      "30\n"
     ]
    }
   ],
   "source": [
    "no_split_path = self.conn.current_weight == 1\n",
    "print(sum(no_split_path))"
   ]
  },
  {
   "cell_type": "code",
   "execution_count": 6,
   "metadata": {},
   "outputs": [
    {
     "data": {
      "text/html": [
       "<div>\n",
       "<style scoped>\n",
       "    .dataframe tbody tr th:only-of-type {\n",
       "        vertical-align: middle;\n",
       "    }\n",
       "\n",
       "    .dataframe tbody tr th {\n",
       "        vertical-align: top;\n",
       "    }\n",
       "\n",
       "    .dataframe thead th {\n",
       "        text-align: right;\n",
       "    }\n",
       "</style>\n",
       "<table border=\"1\" class=\"dataframe\">\n",
       "  <thead>\n",
       "    <tr style=\"text-align: right;\">\n",
       "      <th></th>\n",
       "      <th>current_weight</th>\n",
       "      <th>start</th>\n",
       "      <th>end</th>\n",
       "    </tr>\n",
       "  </thead>\n",
       "  <tbody>\n",
       "    <tr>\n",
       "      <th>0</th>\n",
       "      <td>0.50</td>\n",
       "      <td>79</td>\n",
       "      <td>81</td>\n",
       "    </tr>\n",
       "    <tr>\n",
       "      <th>1</th>\n",
       "      <td>0.25</td>\n",
       "      <td>81</td>\n",
       "      <td>85</td>\n",
       "    </tr>\n",
       "    <tr>\n",
       "      <th>2</th>\n",
       "      <td>0.25</td>\n",
       "      <td>85</td>\n",
       "      <td>93</td>\n",
       "    </tr>\n",
       "    <tr>\n",
       "      <th>3</th>\n",
       "      <td>0.25</td>\n",
       "      <td>93</td>\n",
       "      <td>95</td>\n",
       "    </tr>\n",
       "    <tr>\n",
       "      <th>4</th>\n",
       "      <td>0.25</td>\n",
       "      <td>81</td>\n",
       "      <td>86</td>\n",
       "    </tr>\n",
       "    <tr>\n",
       "      <th>...</th>\n",
       "      <td>...</td>\n",
       "      <td>...</td>\n",
       "      <td>...</td>\n",
       "    </tr>\n",
       "    <tr>\n",
       "      <th>193</th>\n",
       "      <td>1.00</td>\n",
       "      <td>80</td>\n",
       "      <td>78</td>\n",
       "    </tr>\n",
       "    <tr>\n",
       "      <th>194</th>\n",
       "      <td>1.00</td>\n",
       "      <td>78</td>\n",
       "      <td>76</td>\n",
       "    </tr>\n",
       "    <tr>\n",
       "      <th>195</th>\n",
       "      <td>1.00</td>\n",
       "      <td>76</td>\n",
       "      <td>75</td>\n",
       "    </tr>\n",
       "    <tr>\n",
       "      <th>196</th>\n",
       "      <td>1.00</td>\n",
       "      <td>75</td>\n",
       "      <td>77</td>\n",
       "    </tr>\n",
       "    <tr>\n",
       "      <th>197</th>\n",
       "      <td>1.00</td>\n",
       "      <td>77</td>\n",
       "      <td>79</td>\n",
       "    </tr>\n",
       "  </tbody>\n",
       "</table>\n",
       "<p>198 rows × 3 columns</p>\n",
       "</div>"
      ],
      "text/plain": [
       "     current_weight  start  end\n",
       "0              0.50     79   81\n",
       "1              0.25     81   85\n",
       "2              0.25     85   93\n",
       "3              0.25     93   95\n",
       "4              0.25     81   86\n",
       "..              ...    ...  ...\n",
       "193            1.00     80   78\n",
       "194            1.00     78   76\n",
       "195            1.00     76   75\n",
       "196            1.00     75   77\n",
       "197            1.00     77   79\n",
       "\n",
       "[198 rows x 3 columns]"
      ]
     },
     "execution_count": 6,
     "metadata": {},
     "output_type": "execute_result"
    }
   ],
   "source": [
    "self.conn"
   ]
  },
  {
   "cell_type": "code",
   "execution_count": 7,
   "metadata": {},
   "outputs": [
    {
     "name": "stdout",
     "output_type": "stream",
     "text": [
      "139\n",
      "[139, 129, 129, 129]\n"
     ]
    }
   ],
   "source": [
    "# a.conn.current_weight\n",
    "\n",
    "# find first occurence of the connection point with weight 1\n",
    "# current_index = int(a.conn.loc[a.conn.current_weight == 1, ::].index[0])\n",
    "# current_index = int(self.conn.loc[.conn.current_weight == 1, ::].index[0])\n",
    "current_index = int(self.conn.loc[self.conn.loc[self.conn.current_weight == 1, ::].index[0],'end'])\n",
    "\n",
    "print(current_index)\n",
    "\n",
    "\n",
    "# # temp_index = int(df_temp.iloc[0,::].end)\n",
    "\n",
    "index_depo = []\n",
    "index_depo.append(current_index)\n",
    "while len(index_depo) < 4:\n",
    "\n",
    "    current_index = int(self.conn.loc[self.conn.loc[self.conn.current_weight == 1, ::].index[0],'start'])\n",
    "\n",
    "    index_depo.append(current_index)\n",
    "    pass\n",
    "\n",
    "\n",
    "print(index_depo)\n",
    "# while len(index_depo) < 4:\n",
    "#                     int(a.conn.loc[a.conn.start == current_index, ::].index[0])\n",
    "#     current_index = int(df_temp.loc[df_temp.start == temp_index,'end'])\n",
    "#     current_index.append(temp_index)"
   ]
  },
  {
   "cell_type": "code",
   "execution_count": 8,
   "metadata": {},
   "outputs": [
    {
     "data": {
      "text/plain": [
       "28"
      ]
     },
     "execution_count": 8,
     "metadata": {},
     "output_type": "execute_result"
    }
   ],
   "source": [
    "self.conn.loc[(self.conn.current_weight == 1) , ::].index[0]"
   ]
  },
  {
   "cell_type": "code",
   "execution_count": null,
   "metadata": {},
   "outputs": [],
   "source": []
  },
  {
   "cell_type": "code",
   "execution_count": 9,
   "metadata": {},
   "outputs": [
    {
     "ename": "NameError",
     "evalue": "name 'a' is not defined",
     "output_type": "error",
     "traceback": [
      "\u001b[1;31m---------------------------------------------------------------------------\u001b[0m",
      "\u001b[1;31mNameError\u001b[0m                                 Traceback (most recent call last)",
      "Cell \u001b[1;32mIn[9], line 1\u001b[0m\n\u001b[1;32m----> 1\u001b[0m a\u001b[39m.\u001b[39mconn\u001b[39m.\u001b[39mloc[a\u001b[39m.\u001b[39mconn\u001b[39m.\u001b[39mcurrent_weight \u001b[39m==\u001b[39m \u001b[39m1\u001b[39m, ::]\n",
      "\u001b[1;31mNameError\u001b[0m: name 'a' is not defined"
     ]
    }
   ],
   "source": [
    "a.conn.loc[a.conn.current_weight == 1, ::]"
   ]
  },
  {
   "cell_type": "code",
   "execution_count": null,
   "metadata": {},
   "outputs": [],
   "source": []
  },
  {
   "cell_type": "code",
   "execution_count": null,
   "metadata": {},
   "outputs": [],
   "source": []
  },
  {
   "cell_type": "code",
   "execution_count": null,
   "metadata": {},
   "outputs": [],
   "source": []
  },
  {
   "cell_type": "code",
   "execution_count": 10,
   "metadata": {},
   "outputs": [
    {
     "ename": "NameError",
     "evalue": "name 'a' is not defined",
     "output_type": "error",
     "traceback": [
      "\u001b[1;31m---------------------------------------------------------------------------\u001b[0m",
      "\u001b[1;31mNameError\u001b[0m                                 Traceback (most recent call last)",
      "Cell \u001b[1;32mIn[10], line 1\u001b[0m\n\u001b[1;32m----> 1\u001b[0m df_temp \u001b[39m=\u001b[39m a\u001b[39m.\u001b[39mconn\u001b[39m.\u001b[39mloc[no_split_path,::]\n",
      "\u001b[1;31mNameError\u001b[0m: name 'a' is not defined"
     ]
    }
   ],
   "source": [
    "df_temp = a.conn.loc[no_split_path,::]"
   ]
  },
  {
   "cell_type": "code",
   "execution_count": 11,
   "metadata": {},
   "outputs": [
    {
     "ename": "NameError",
     "evalue": "name 'df_temp' is not defined",
     "output_type": "error",
     "traceback": [
      "\u001b[1;31m---------------------------------------------------------------------------\u001b[0m",
      "\u001b[1;31mNameError\u001b[0m                                 Traceback (most recent call last)",
      "Cell \u001b[1;32mIn[11], line 1\u001b[0m\n\u001b[1;32m----> 1\u001b[0m df_temp\u001b[39m.\u001b[39miloc[\u001b[39m0\u001b[39m,::]\u001b[39m.\u001b[39mstart\n",
      "\u001b[1;31mNameError\u001b[0m: name 'df_temp' is not defined"
     ]
    }
   ],
   "source": [
    "df_temp.iloc[0,::].start"
   ]
  },
  {
   "cell_type": "code",
   "execution_count": 12,
   "metadata": {},
   "outputs": [
    {
     "ename": "NameError",
     "evalue": "name 'df_temp' is not defined",
     "output_type": "error",
     "traceback": [
      "\u001b[1;31m---------------------------------------------------------------------------\u001b[0m",
      "\u001b[1;31mNameError\u001b[0m                                 Traceback (most recent call last)",
      "Cell \u001b[1;32mIn[12], line 1\u001b[0m\n\u001b[1;32m----> 1\u001b[0m df_temp\u001b[39m.\u001b[39miloc[\u001b[39m0\u001b[39m,::]\u001b[39m.\u001b[39mend\n",
      "\u001b[1;31mNameError\u001b[0m: name 'df_temp' is not defined"
     ]
    }
   ],
   "source": [
    "df_temp.iloc[0,::].end"
   ]
  },
  {
   "cell_type": "code",
   "execution_count": 13,
   "metadata": {},
   "outputs": [
    {
     "ename": "NameError",
     "evalue": "name 'df_temp' is not defined",
     "output_type": "error",
     "traceback": [
      "\u001b[1;31m---------------------------------------------------------------------------\u001b[0m",
      "\u001b[1;31mNameError\u001b[0m                                 Traceback (most recent call last)",
      "Cell \u001b[1;32mIn[13], line 3\u001b[0m\n\u001b[0;32m      1\u001b[0m temp_index_depo \u001b[39m=\u001b[39m []\n\u001b[1;32m----> 3\u001b[0m temp_index \u001b[39m=\u001b[39m \u001b[39mint\u001b[39m(df_temp\u001b[39m.\u001b[39miloc[\u001b[39m0\u001b[39m,::]\u001b[39m.\u001b[39mend)\n\u001b[0;32m      4\u001b[0m temp_index_depo\u001b[39m.\u001b[39mappend(temp_index)\n\u001b[0;32m      6\u001b[0m \u001b[39mwhile\u001b[39;00m \u001b[39mlen\u001b[39m(temp_index_depo) \u001b[39m<\u001b[39m \u001b[39m20\u001b[39m:\n",
      "\u001b[1;31mNameError\u001b[0m: name 'df_temp' is not defined"
     ]
    }
   ],
   "source": [
    "temp_index_depo = []\n",
    "\n",
    "temp_index = int(df_temp.iloc[0,::].end)\n",
    "temp_index_depo.append(temp_index)\n",
    "\n",
    "while len(temp_index_depo) < 20:\n",
    "    temp_index = int(df_temp.loc[df_temp.start == temp_index,'end'])\n",
    "    temp_index_depo.append(temp_index)\n"
   ]
  },
  {
   "cell_type": "code",
   "execution_count": 14,
   "metadata": {},
   "outputs": [
    {
     "ename": "NameError",
     "evalue": "name 'temp_index' is not defined",
     "output_type": "error",
     "traceback": [
      "\u001b[1;31m---------------------------------------------------------------------------\u001b[0m",
      "\u001b[1;31mNameError\u001b[0m                                 Traceback (most recent call last)",
      "Cell \u001b[1;32mIn[14], line 1\u001b[0m\n\u001b[1;32m----> 1\u001b[0m temp_index\n",
      "\u001b[1;31mNameError\u001b[0m: name 'temp_index' is not defined"
     ]
    }
   ],
   "source": [
    "temp_index"
   ]
  },
  {
   "cell_type": "code",
   "execution_count": 15,
   "metadata": {},
   "outputs": [
    {
     "data": {
      "text/plain": [
       "[]"
      ]
     },
     "execution_count": 15,
     "metadata": {},
     "output_type": "execute_result"
    }
   ],
   "source": [
    "temp_index_depo"
   ]
  },
  {
   "cell_type": "code",
   "execution_count": 16,
   "metadata": {},
   "outputs": [
    {
     "ename": "NameError",
     "evalue": "name 'df_temp' is not defined",
     "output_type": "error",
     "traceback": [
      "\u001b[1;31m---------------------------------------------------------------------------\u001b[0m",
      "\u001b[1;31mNameError\u001b[0m                                 Traceback (most recent call last)",
      "Cell \u001b[1;32mIn[16], line 1\u001b[0m\n\u001b[1;32m----> 1\u001b[0m df_temp\u001b[39m.\u001b[39mloc[df_temp\u001b[39m.\u001b[39mstart \u001b[39m==\u001b[39m temp_index,\u001b[39m'\u001b[39m\u001b[39mend\u001b[39m\u001b[39m'\u001b[39m]\n",
      "\u001b[1;31mNameError\u001b[0m: name 'df_temp' is not defined"
     ]
    }
   ],
   "source": [
    "df_temp.loc[df_temp.start == temp_index,'end']"
   ]
  },
  {
   "cell_type": "code",
   "execution_count": null,
   "metadata": {},
   "outputs": [],
   "source": []
  },
  {
   "cell_type": "code",
   "execution_count": null,
   "metadata": {},
   "outputs": [],
   "source": []
  },
  {
   "cell_type": "code",
   "execution_count": null,
   "metadata": {},
   "outputs": [],
   "source": []
  },
  {
   "cell_type": "code",
   "execution_count": null,
   "metadata": {},
   "outputs": [],
   "source": []
  },
  {
   "cell_type": "code",
   "execution_count": null,
   "metadata": {},
   "outputs": [],
   "source": [
    "# xyz_view = py3Dmol.view(\n",
    "#     data=Chem.MolToMolBlock(mol), \n",
    "#     style={\"stick\": {}, \"sphere\": {\"scale\": 0.25}},\n",
    "#     width=400,height=400,\n",
    "#     )\n",
    "# xyz_view.zoomTo()"
   ]
  },
  {
   "cell_type": "code",
   "execution_count": null,
   "metadata": {},
   "outputs": [],
   "source": [
    "# #Calculate area\n",
    "# import pyny3d.geoms as pyny\n",
    "\n",
    "# coords_3d = np.array([\n",
    "#                     [0,  0, 0],\n",
    "#                     [2,  0, 0],\n",
    "#                     [2,  0, 2],\n",
    "#                     [0,  0, 2]\n",
    "#                     ])\n",
    "# polygon = pyny.Polygon(coords_3d)\n",
    "# print(f'Area is : {polygon.get_area()}')"
   ]
  }
 ],
 "metadata": {
  "kernelspec": {
   "display_name": "rcm",
   "language": "python",
   "name": "python3"
  },
  "language_info": {
   "codemirror_mode": {
    "name": "ipython",
    "version": 3
   },
   "file_extension": ".py",
   "mimetype": "text/x-python",
   "name": "python",
   "nbconvert_exporter": "python",
   "pygments_lexer": "ipython3",
   "version": "3.11.0"
  },
  "orig_nbformat": 4,
  "vscode": {
   "interpreter": {
    "hash": "ef0f51a6f01c087b833011739a293687b347ab5317dc186f6a37a7ab1003eaf9"
   }
  }
 },
 "nbformat": 4,
 "nbformat_minor": 2
}
