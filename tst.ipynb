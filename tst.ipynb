{
 "cells": [
  {
   "cell_type": "code",
   "execution_count": 1,
   "metadata": {},
   "outputs": [],
   "source": [
    "import numpy as np"
   ]
  },
  {
   "cell_type": "code",
   "execution_count": 2,
   "metadata": {},
   "outputs": [
    {
     "name": "stdout",
     "output_type": "stream",
     "text": [
      "-1.9532285990392415\n",
      "0.7812914396156966\n",
      "-0.0\n"
     ]
    }
   ],
   "source": [
    "import rcm\n",
    "\n",
    "a = rcm.Bz(0,1,2,3,0,7,8,6,8,9,15,5)\n",
    "print(a)\n",
    "a = rcm.Bx(0,1,2,3,0,7,8,6,8,9,15,5)\n",
    "print(a)\n",
    "a = rcm.By(0,1,2,3,0,7,8,6,8,9,15,5)\n",
    "print(a)"
   ]
  },
  {
   "cell_type": "code",
   "execution_count": 3,
   "metadata": {},
   "outputs": [
    {
     "name": "stdout",
     "output_type": "stream",
     "text": [
      "(0.7812914396156966, -0.0, -1.9532285990392415)\n"
     ]
    }
   ],
   "source": [
    "a = rcm.B(0,1,2,3,0,7,8,6,8,9,15,5)\n",
    "print(a)"
   ]
  },
  {
   "cell_type": "code",
   "execution_count": 8,
   "metadata": {},
   "outputs": [
    {
     "data": {
      "text/plain": [
       "numpy.float64"
      ]
     },
     "execution_count": 8,
     "metadata": {},
     "output_type": "execute_result"
    }
   ],
   "source": [
    "type(a)"
   ]
  },
  {
   "cell_type": "code",
   "execution_count": null,
   "metadata": {},
   "outputs": [],
   "source": []
  }
 ],
 "metadata": {
  "kernelspec": {
   "display_name": "rcm",
   "language": "python",
   "name": "python3"
  },
  "language_info": {
   "codemirror_mode": {
    "name": "ipython",
    "version": 3
   },
   "file_extension": ".py",
   "mimetype": "text/x-python",
   "name": "python",
   "nbconvert_exporter": "python",
   "pygments_lexer": "ipython3",
   "version": "3.11.0"
  },
  "orig_nbformat": 4,
  "vscode": {
   "interpreter": {
    "hash": "ef0f51a6f01c087b833011739a293687b347ab5317dc186f6a37a7ab1003eaf9"
   }
  }
 },
 "nbformat": 4,
 "nbformat_minor": 2
}
