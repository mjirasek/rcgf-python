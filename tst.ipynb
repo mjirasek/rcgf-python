{
 "cells": [
  {
   "cell_type": "code",
   "execution_count": null,
   "metadata": {},
   "outputs": [],
   "source": [
    "from rdkit import Chem\n",
    "import pandas as pd\n",
    "import numpy as np\n",
    "from sympy import Polygon\n",
    "\n",
    "\n",
    "from importlib import reload\n",
    "import py3Dmol\n",
    "import rcm\n",
    "file_path_connectivity_table = 'cp6t6_0p_blyp35_geom_connectivity_global.csv'\n",
    "xyz_file_path = 'cp6t6_0p_blyp35_geom.xyz'"
   ]
  },
  {
   "attachments": {},
   "cell_type": "markdown",
   "metadata": {},
   "source": [
    "probably store xyz in pandas as x, y, z insted of numpy array. one can than easily add extra column of the B fileds associated"
   ]
  },
  {
   "cell_type": "code",
   "execution_count": null,
   "metadata": {},
   "outputs": [],
   "source": [
    "a = rcm.RCM(xyz_file_path,file_path_connectivity_table)\n",
    "mol = a.mol\n",
    "mol = Chem.RWMol(mol)\n",
    "a.get_B(0,0,0)"
   ]
  },
  {
   "cell_type": "code",
   "execution_count": null,
   "metadata": {},
   "outputs": [],
   "source": [
    "from rcm import area"
   ]
  },
  {
   "cell_type": "code",
   "execution_count": null,
   "metadata": {},
   "outputs": [],
   "source": [
    "coords_3d = np.array([\n",
    "            [ 0,  0, 0],\n",
    "            [ 2,  0, 0],\n",
    "            [ 2,  2, 0],\n",
    "            [ 0,  2, 0],\n",
    "            [ 0, -2, 0],\n",
    "            [-2, -2, 0],\n",
    "            [-2,  0, 0],\n",
    "            ])"
   ]
  },
  {
   "cell_type": "code",
   "execution_count": null,
   "metadata": {},
   "outputs": [],
   "source": [
    "area.area_3d(coords_3d)"
   ]
  },
  {
   "cell_type": "code",
   "execution_count": null,
   "metadata": {},
   "outputs": [],
   "source": [
    "Polygon(*list(coords_3d[:,1:3]))"
   ]
  },
  {
   "cell_type": "code",
   "execution_count": null,
   "metadata": {},
   "outputs": [],
   "source": [
    "# clearly, numpy array is not well parsed into the Polygon"
   ]
  },
  {
   "cell_type": "code",
   "execution_count": null,
   "metadata": {},
   "outputs": [],
   "source": []
  },
  {
   "cell_type": "code",
   "execution_count": null,
   "metadata": {},
   "outputs": [],
   "source": []
  },
  {
   "cell_type": "code",
   "execution_count": null,
   "metadata": {},
   "outputs": [],
   "source": []
  },
  {
   "cell_type": "code",
   "execution_count": null,
   "metadata": {},
   "outputs": [],
   "source": []
  },
  {
   "cell_type": "code",
   "execution_count": null,
   "metadata": {},
   "outputs": [],
   "source": [
    "xyz_view = py3Dmol.view(\n",
    "    data=Chem.MolToMolBlock(mol), \n",
    "    style={\"stick\": {}, \"sphere\": {\"scale\": 0.25}},\n",
    "    width=400,height=400,\n",
    "    )\n",
    "xyz_view.zoomTo()"
   ]
  },
  {
   "cell_type": "code",
   "execution_count": null,
   "metadata": {},
   "outputs": [],
   "source": []
  },
  {
   "cell_type": "code",
   "execution_count": null,
   "metadata": {},
   "outputs": [],
   "source": []
  },
  {
   "cell_type": "code",
   "execution_count": null,
   "metadata": {},
   "outputs": [],
   "source": []
  },
  {
   "cell_type": "code",
   "execution_count": null,
   "metadata": {},
   "outputs": [],
   "source": []
  },
  {
   "cell_type": "code",
   "execution_count": null,
   "metadata": {},
   "outputs": [],
   "source": []
  },
  {
   "cell_type": "code",
   "execution_count": null,
   "metadata": {},
   "outputs": [],
   "source": []
  },
  {
   "cell_type": "code",
   "execution_count": null,
   "metadata": {},
   "outputs": [],
   "source": [
    "# #Calculate area\n",
    "# import pyny3d.geoms as pyny\n",
    "\n",
    "# coords_3d = np.array([\n",
    "#                     [0,  0, 0],\n",
    "#                     [2,  0, 0],\n",
    "#                     [2,  0, 2],\n",
    "#                     [0,  0, 2]\n",
    "#                     ])\n",
    "# polygon = pyny.Polygon(coords_3d)\n",
    "# print(f'Area is : {polygon.get_area()}')"
   ]
  }
 ],
 "metadata": {
  "kernelspec": {
   "display_name": "Python 3",
   "language": "python",
   "name": "python3"
  },
  "language_info": {
   "codemirror_mode": {
    "name": "ipython",
    "version": 3
   },
   "file_extension": ".py",
   "mimetype": "text/x-python",
   "name": "python",
   "nbconvert_exporter": "python",
   "pygments_lexer": "ipython3",
   "version": "3.11.0"
  },
  "orig_nbformat": 4,
  "vscode": {
   "interpreter": {
    "hash": "cdeb256d4d6654643b931e1d6e978d9d9a0b67aac29d01cb1f9375bf1f7ecb38"
   }
  }
 },
 "nbformat": 4,
 "nbformat_minor": 2
}
