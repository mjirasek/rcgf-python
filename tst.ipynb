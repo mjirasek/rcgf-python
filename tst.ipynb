{
 "cells": [
  {
   "cell_type": "code",
   "execution_count": null,
   "metadata": {},
   "outputs": [],
   "source": [
    "# import numpy as np\n",
    "# import tkinter as tk\n",
    "# from tkinter import filedialog\n",
    "# import pandas as pd\n",
    "\n",
    "# root = tk.Tk()\n",
    "# root.withdraw()\n",
    "\n",
    "# # file_path = filedialog.askopenfilename(\n",
    "# #   title=\"Select geometry xyz file.\",\n",
    "# #   initialdir='.',\n",
    "# #   filetypes=(\n",
    "# #       # (\"jpeg files\", \"*.jpg\"),\n",
    "# #       # (\"csv files\", \"*.csv\"),\n",
    "# #       (\"xyz files\", \"*.xyz\"),\n",
    "# #       (\"gif files\", \"*.gif*\")\n",
    "# #       # (\"png files\", \"*.png\")\n",
    "# #     )\n",
    "# #   )\n",
    "\n",
    "file_path = 'C:/Users/edu51/MJ_Python/rcm-python/cp6t6_0p_blyp35_geom.xyz'\n",
    "\n",
    "from rdkit import Chem\n",
    "a = Chem.rdmolfiles.MolFromXYZFile(file_path)\n",
    "\n",
    "\n",
    "# # print(file_path)"
   ]
  },
  {
   "cell_type": "code",
   "execution_count": 19,
   "metadata": {},
   "outputs": [],
   "source": [
    "import pandas as pd\n",
    "import numpy as np"
   ]
  },
  {
   "cell_type": "code",
   "execution_count": null,
   "metadata": {},
   "outputs": [],
   "source": [
    "import rcm"
   ]
  },
  {
   "cell_type": "code",
   "execution_count": null,
   "metadata": {},
   "outputs": [],
   "source": [
    "rcm.B(0,1,2,3,4,0,1,2,4,5,2)"
   ]
  },
  {
   "cell_type": "code",
   "execution_count": 43,
   "metadata": {},
   "outputs": [
    {
     "data": {
      "text/html": [
       "<div>\n",
       "<style scoped>\n",
       "    .dataframe tbody tr th:only-of-type {\n",
       "        vertical-align: middle;\n",
       "    }\n",
       "\n",
       "    .dataframe tbody tr th {\n",
       "        vertical-align: top;\n",
       "    }\n",
       "\n",
       "    .dataframe thead th {\n",
       "        text-align: right;\n",
       "    }\n",
       "</style>\n",
       "<table border=\"1\" class=\"dataframe\">\n",
       "  <thead>\n",
       "    <tr style=\"text-align: right;\">\n",
       "      <th></th>\n",
       "      <th>current_weight</th>\n",
       "      <th>start</th>\n",
       "      <th>end</th>\n",
       "    </tr>\n",
       "  </thead>\n",
       "  <tbody>\n",
       "    <tr>\n",
       "      <th>0</th>\n",
       "      <td>0.50</td>\n",
       "      <td>79</td>\n",
       "      <td>81</td>\n",
       "    </tr>\n",
       "    <tr>\n",
       "      <th>1</th>\n",
       "      <td>0.25</td>\n",
       "      <td>81</td>\n",
       "      <td>85</td>\n",
       "    </tr>\n",
       "    <tr>\n",
       "      <th>2</th>\n",
       "      <td>0.25</td>\n",
       "      <td>85</td>\n",
       "      <td>93</td>\n",
       "    </tr>\n",
       "    <tr>\n",
       "      <th>3</th>\n",
       "      <td>0.25</td>\n",
       "      <td>93</td>\n",
       "      <td>95</td>\n",
       "    </tr>\n",
       "    <tr>\n",
       "      <th>4</th>\n",
       "      <td>0.25</td>\n",
       "      <td>81</td>\n",
       "      <td>86</td>\n",
       "    </tr>\n",
       "  </tbody>\n",
       "</table>\n",
       "</div>"
      ],
      "text/plain": [
       "   current_weight  start  end\n",
       "0            0.50     79   81\n",
       "1            0.25     81   85\n",
       "2            0.25     85   93\n",
       "3            0.25     93   95\n",
       "4            0.25     81   86"
      ]
     },
     "metadata": {},
     "output_type": "display_data"
    }
   ],
   "source": [
    "file_path_connectivity_table = 'cp6t6_0p_blyp35_geom_connectivity_global.csv'\n",
    "\n",
    "\n",
    "df = pd.read_csv(\n",
    "  file_path_connectivity_table, header=None, \n",
    "  names = ['current_weight', 'start','end']\n",
    ")\n",
    "\n",
    "\n",
    "display(df.head())"
   ]
  },
  {
   "cell_type": "code",
   "execution_count": 44,
   "metadata": {},
   "outputs": [],
   "source": [
    "def count_iterable(i):\n",
    "    return sum(1 for e in i)"
   ]
  },
  {
   "cell_type": "code",
   "execution_count": 45,
   "metadata": {},
   "outputs": [
    {
     "data": {
      "text/plain": [
       "480"
      ]
     },
     "execution_count": 45,
     "metadata": {},
     "output_type": "execute_result"
    }
   ],
   "source": [
    "count_iterable(a.GetAtoms())"
   ]
  },
  {
   "cell_type": "code",
   "execution_count": 46,
   "metadata": {},
   "outputs": [],
   "source": [
    "df_xyz = pd.DataFrame(np.nan, columns=['atom', 'x', 'y', 'z'], index=np.arange(count_iterable(a.GetAtoms())))\n",
    "# df"
   ]
  },
  {
   "cell_type": "code",
   "execution_count": 47,
   "metadata": {},
   "outputs": [],
   "source": [
    "# b = Chem.MolToXYZBlock(a)\n",
    "# df_depo = pd.DataFrame()\n",
    "\n",
    "for i,atom in enumerate(a.GetAtoms()): \n",
    "  positions = a.GetConformer().GetAtomPosition(i)\n",
    "  # print(atom.GetAtomicNum())\n",
    "  df_xyz.at[i,'atom'] = atom.GetSymbol()\n",
    "  df_xyz.at[i,'x'] = positions.x\n",
    "  df_xyz.at[i,'y'] = positions.y\n",
    "  df_xyz.at[i,'z'] = positions.z\n",
    "  # print(atom.GetSymbol(), positions.x, positions.y, positions.z)\n",
    "  \n",
    "  # lst = [atom.GetSymbol(), positions.x, positions.y, positions.z]\n",
    "  # df_depo = pd.concat([df_depo,[atom.GetSymbol(), positions.x, positions.y, positions.z]], axis=0)\n",
    "  # df_depo.at[1,::] = lst\n",
    "  # break"
   ]
  },
  {
   "cell_type": "code",
   "execution_count": 48,
   "metadata": {},
   "outputs": [
    {
     "data": {
      "text/html": [
       "<div>\n",
       "<style scoped>\n",
       "    .dataframe tbody tr th:only-of-type {\n",
       "        vertical-align: middle;\n",
       "    }\n",
       "\n",
       "    .dataframe tbody tr th {\n",
       "        vertical-align: top;\n",
       "    }\n",
       "\n",
       "    .dataframe thead th {\n",
       "        text-align: right;\n",
       "    }\n",
       "</style>\n",
       "<table border=\"1\" class=\"dataframe\">\n",
       "  <thead>\n",
       "    <tr style=\"text-align: right;\">\n",
       "      <th></th>\n",
       "      <th>current_weight</th>\n",
       "      <th>start</th>\n",
       "      <th>end</th>\n",
       "    </tr>\n",
       "  </thead>\n",
       "  <tbody>\n",
       "    <tr>\n",
       "      <th>0</th>\n",
       "      <td>0.50</td>\n",
       "      <td>79</td>\n",
       "      <td>81</td>\n",
       "    </tr>\n",
       "    <tr>\n",
       "      <th>1</th>\n",
       "      <td>0.25</td>\n",
       "      <td>81</td>\n",
       "      <td>85</td>\n",
       "    </tr>\n",
       "    <tr>\n",
       "      <th>2</th>\n",
       "      <td>0.25</td>\n",
       "      <td>85</td>\n",
       "      <td>93</td>\n",
       "    </tr>\n",
       "    <tr>\n",
       "      <th>3</th>\n",
       "      <td>0.25</td>\n",
       "      <td>93</td>\n",
       "      <td>95</td>\n",
       "    </tr>\n",
       "    <tr>\n",
       "      <th>4</th>\n",
       "      <td>0.25</td>\n",
       "      <td>81</td>\n",
       "      <td>86</td>\n",
       "    </tr>\n",
       "    <tr>\n",
       "      <th>...</th>\n",
       "      <td>...</td>\n",
       "      <td>...</td>\n",
       "      <td>...</td>\n",
       "    </tr>\n",
       "    <tr>\n",
       "      <th>193</th>\n",
       "      <td>1.00</td>\n",
       "      <td>80</td>\n",
       "      <td>78</td>\n",
       "    </tr>\n",
       "    <tr>\n",
       "      <th>194</th>\n",
       "      <td>1.00</td>\n",
       "      <td>78</td>\n",
       "      <td>76</td>\n",
       "    </tr>\n",
       "    <tr>\n",
       "      <th>195</th>\n",
       "      <td>1.00</td>\n",
       "      <td>76</td>\n",
       "      <td>75</td>\n",
       "    </tr>\n",
       "    <tr>\n",
       "      <th>196</th>\n",
       "      <td>1.00</td>\n",
       "      <td>75</td>\n",
       "      <td>77</td>\n",
       "    </tr>\n",
       "    <tr>\n",
       "      <th>197</th>\n",
       "      <td>1.00</td>\n",
       "      <td>77</td>\n",
       "      <td>79</td>\n",
       "    </tr>\n",
       "  </tbody>\n",
       "</table>\n",
       "<p>198 rows × 3 columns</p>\n",
       "</div>"
      ],
      "text/plain": [
       "     current_weight  start  end\n",
       "0              0.50     79   81\n",
       "1              0.25     81   85\n",
       "2              0.25     85   93\n",
       "3              0.25     93   95\n",
       "4              0.25     81   86\n",
       "..              ...    ...  ...\n",
       "193            1.00     80   78\n",
       "194            1.00     78   76\n",
       "195            1.00     76   75\n",
       "196            1.00     75   77\n",
       "197            1.00     77   79\n",
       "\n",
       "[198 rows x 3 columns]"
      ]
     },
     "execution_count": 48,
     "metadata": {},
     "output_type": "execute_result"
    }
   ],
   "source": [
    "df"
   ]
  },
  {
   "cell_type": "code",
   "execution_count": 66,
   "metadata": {},
   "outputs": [
    {
     "data": {
      "text/plain": [
       "atom            C\n",
       "x      -12.834856\n",
       "y        1.080083\n",
       "z        0.008206\n",
       "Name: 79, dtype: object"
      ]
     },
     "execution_count": 66,
     "metadata": {},
     "output_type": "execute_result"
    }
   ],
   "source": [
    "df_xyz.iloc[df.loc[0,'start'],::]"
   ]
  },
  {
   "cell_type": "code",
   "execution_count": 57,
   "metadata": {},
   "outputs": [
    {
     "data": {
      "text/plain": [
       "0.5"
      ]
     },
     "execution_count": 57,
     "metadata": {},
     "output_type": "execute_result"
    }
   ],
   "source": [
    "df.loc[0,'current_weight']\n"
   ]
  },
  {
   "cell_type": "code",
   "execution_count": 54,
   "metadata": {},
   "outputs": [
    {
     "data": {
      "text/plain": [
       "79"
      ]
     },
     "execution_count": 54,
     "metadata": {},
     "output_type": "execute_result"
    }
   ],
   "source": [
    "df.loc[0,'start']"
   ]
  },
  {
   "cell_type": "code",
   "execution_count": null,
   "metadata": {},
   "outputs": [],
   "source": []
  },
  {
   "cell_type": "code",
   "execution_count": 56,
   "metadata": {},
   "outputs": [
    {
     "data": {
      "text/plain": [
       "81"
      ]
     },
     "execution_count": 56,
     "metadata": {},
     "output_type": "execute_result"
    }
   ],
   "source": [
    "df.loc[0,'end']\n"
   ]
  },
  {
   "cell_type": "code",
   "execution_count": null,
   "metadata": {},
   "outputs": [],
   "source": []
  },
  {
   "cell_type": "code",
   "execution_count": 51,
   "metadata": {},
   "outputs": [
    {
     "name": "stdout",
     "output_type": "stream",
     "text": [
      "0\n",
      "1\n",
      "2\n",
      "3\n",
      "4\n",
      "5\n",
      "6\n",
      "7\n",
      "8\n",
      "9\n",
      "10\n",
      "11\n",
      "12\n",
      "13\n",
      "14\n",
      "15\n",
      "16\n",
      "17\n",
      "18\n",
      "19\n",
      "20\n",
      "21\n",
      "22\n",
      "23\n",
      "24\n",
      "25\n",
      "26\n",
      "27\n",
      "28\n",
      "29\n",
      "30\n",
      "31\n",
      "32\n",
      "33\n",
      "34\n",
      "35\n",
      "36\n",
      "37\n",
      "38\n",
      "39\n",
      "40\n",
      "41\n",
      "42\n",
      "43\n",
      "44\n",
      "45\n",
      "46\n",
      "47\n",
      "48\n",
      "49\n",
      "50\n",
      "51\n",
      "52\n",
      "53\n",
      "54\n",
      "55\n",
      "56\n",
      "57\n",
      "58\n",
      "59\n",
      "60\n",
      "61\n",
      "62\n",
      "63\n",
      "64\n",
      "65\n",
      "66\n",
      "67\n",
      "68\n",
      "69\n",
      "70\n",
      "71\n",
      "72\n",
      "73\n",
      "74\n",
      "75\n",
      "76\n",
      "77\n",
      "78\n",
      "79\n",
      "80\n",
      "81\n",
      "82\n",
      "83\n",
      "84\n",
      "85\n",
      "86\n",
      "87\n",
      "88\n",
      "89\n",
      "90\n",
      "91\n",
      "92\n",
      "93\n",
      "94\n",
      "95\n",
      "96\n",
      "97\n",
      "98\n",
      "99\n",
      "100\n",
      "101\n",
      "102\n",
      "103\n",
      "104\n",
      "105\n",
      "106\n",
      "107\n",
      "108\n",
      "109\n",
      "110\n",
      "111\n",
      "112\n",
      "113\n",
      "114\n",
      "115\n",
      "116\n",
      "117\n",
      "118\n",
      "119\n",
      "120\n",
      "121\n",
      "122\n",
      "123\n",
      "124\n",
      "125\n",
      "126\n",
      "127\n",
      "128\n",
      "129\n",
      "130\n",
      "131\n",
      "132\n",
      "133\n",
      "134\n",
      "135\n",
      "136\n",
      "137\n",
      "138\n",
      "139\n",
      "140\n",
      "141\n",
      "142\n",
      "143\n",
      "144\n",
      "145\n",
      "146\n",
      "147\n",
      "148\n",
      "149\n",
      "150\n",
      "151\n",
      "152\n",
      "153\n",
      "154\n",
      "155\n",
      "156\n",
      "157\n",
      "158\n",
      "159\n",
      "160\n",
      "161\n",
      "162\n",
      "163\n",
      "164\n",
      "165\n",
      "166\n",
      "167\n",
      "168\n",
      "169\n",
      "170\n",
      "171\n",
      "172\n",
      "173\n",
      "174\n",
      "175\n",
      "176\n",
      "177\n",
      "178\n",
      "179\n",
      "180\n",
      "181\n",
      "182\n",
      "183\n",
      "184\n",
      "185\n",
      "186\n",
      "187\n",
      "188\n",
      "189\n",
      "190\n",
      "191\n",
      "192\n",
      "193\n",
      "194\n",
      "195\n",
      "196\n",
      "197\n"
     ]
    }
   ],
   "source": [
    "for i in df.index:\n",
    "  print(i)"
   ]
  },
  {
   "cell_type": "code",
   "execution_count": null,
   "metadata": {},
   "outputs": [],
   "source": []
  },
  {
   "cell_type": "code",
   "execution_count": 49,
   "metadata": {},
   "outputs": [
    {
     "data": {
      "text/html": [
       "<div>\n",
       "<style scoped>\n",
       "    .dataframe tbody tr th:only-of-type {\n",
       "        vertical-align: middle;\n",
       "    }\n",
       "\n",
       "    .dataframe tbody tr th {\n",
       "        vertical-align: top;\n",
       "    }\n",
       "\n",
       "    .dataframe thead th {\n",
       "        text-align: right;\n",
       "    }\n",
       "</style>\n",
       "<table border=\"1\" class=\"dataframe\">\n",
       "  <thead>\n",
       "    <tr style=\"text-align: right;\">\n",
       "      <th></th>\n",
       "      <th>atom</th>\n",
       "      <th>x</th>\n",
       "      <th>y</th>\n",
       "      <th>z</th>\n",
       "    </tr>\n",
       "  </thead>\n",
       "  <tbody>\n",
       "    <tr>\n",
       "      <th>0</th>\n",
       "      <td>C</td>\n",
       "      <td>12.834420</td>\n",
       "      <td>-0.431648</td>\n",
       "      <td>1.263983</td>\n",
       "    </tr>\n",
       "    <tr>\n",
       "      <th>1</th>\n",
       "      <td>C</td>\n",
       "      <td>13.087348</td>\n",
       "      <td>-1.095274</td>\n",
       "      <td>2.516019</td>\n",
       "    </tr>\n",
       "    <tr>\n",
       "      <th>2</th>\n",
       "      <td>C</td>\n",
       "      <td>13.080758</td>\n",
       "      <td>-0.132733</td>\n",
       "      <td>3.471963</td>\n",
       "    </tr>\n",
       "    <tr>\n",
       "      <th>3</th>\n",
       "      <td>C</td>\n",
       "      <td>12.782510</td>\n",
       "      <td>1.115903</td>\n",
       "      <td>2.809385</td>\n",
       "    </tr>\n",
       "    <tr>\n",
       "      <th>4</th>\n",
       "      <td>N</td>\n",
       "      <td>12.655821</td>\n",
       "      <td>0.898976</td>\n",
       "      <td>1.462114</td>\n",
       "    </tr>\n",
       "    <tr>\n",
       "      <th>...</th>\n",
       "      <td>...</td>\n",
       "      <td>...</td>\n",
       "      <td>...</td>\n",
       "      <td>...</td>\n",
       "    </tr>\n",
       "    <tr>\n",
       "      <th>475</th>\n",
       "      <td>C</td>\n",
       "      <td>-2.373974</td>\n",
       "      <td>-7.610207</td>\n",
       "      <td>1.155282</td>\n",
       "    </tr>\n",
       "    <tr>\n",
       "      <th>476</th>\n",
       "      <td>H</td>\n",
       "      <td>-2.984208</td>\n",
       "      <td>-6.862316</td>\n",
       "      <td>-2.080746</td>\n",
       "    </tr>\n",
       "    <tr>\n",
       "      <th>477</th>\n",
       "      <td>H</td>\n",
       "      <td>-3.777700</td>\n",
       "      <td>-9.203738</td>\n",
       "      <td>-1.991108</td>\n",
       "    </tr>\n",
       "    <tr>\n",
       "      <th>478</th>\n",
       "      <td>H</td>\n",
       "      <td>-2.833165</td>\n",
       "      <td>-9.541487</td>\n",
       "      <td>1.988823</td>\n",
       "    </tr>\n",
       "    <tr>\n",
       "      <th>479</th>\n",
       "      <td>H</td>\n",
       "      <td>-1.965475</td>\n",
       "      <td>-7.227316</td>\n",
       "      <td>2.079577</td>\n",
       "    </tr>\n",
       "  </tbody>\n",
       "</table>\n",
       "<p>480 rows × 4 columns</p>\n",
       "</div>"
      ],
      "text/plain": [
       "    atom          x         y         z\n",
       "0      C  12.834420 -0.431648  1.263983\n",
       "1      C  13.087348 -1.095274  2.516019\n",
       "2      C  13.080758 -0.132733  3.471963\n",
       "3      C  12.782510  1.115903  2.809385\n",
       "4      N  12.655821  0.898976  1.462114\n",
       "..   ...        ...       ...       ...\n",
       "475    C  -2.373974 -7.610207  1.155282\n",
       "476    H  -2.984208 -6.862316 -2.080746\n",
       "477    H  -3.777700 -9.203738 -1.991108\n",
       "478    H  -2.833165 -9.541487  1.988823\n",
       "479    H  -1.965475 -7.227316  2.079577\n",
       "\n",
       "[480 rows x 4 columns]"
      ]
     },
     "execution_count": 49,
     "metadata": {},
     "output_type": "execute_result"
    }
   ],
   "source": [
    "df_xyz"
   ]
  },
  {
   "cell_type": "code",
   "execution_count": null,
   "metadata": {},
   "outputs": [],
   "source": []
  },
  {
   "cell_type": "code",
   "execution_count": null,
   "metadata": {},
   "outputs": [],
   "source": []
  },
  {
   "cell_type": "code",
   "execution_count": null,
   "metadata": {},
   "outputs": [],
   "source": []
  },
  {
   "cell_type": "code",
   "execution_count": null,
   "metadata": {},
   "outputs": [],
   "source": []
  },
  {
   "cell_type": "code",
   "execution_count": null,
   "metadata": {},
   "outputs": [],
   "source": [
    "positions"
   ]
  },
  {
   "cell_type": "code",
   "execution_count": null,
   "metadata": {},
   "outputs": [],
   "source": [
    "pd.DataFrame([atom.GetSymbol(), positions.x, positions.y, positions.z])"
   ]
  },
  {
   "cell_type": "code",
   "execution_count": null,
   "metadata": {},
   "outputs": [],
   "source": [
    "# import rcm\n",
    "\n",
    "# a = rcm.Bz(0,1,2,3,0,7,8,6,8,9,15,5)\n",
    "# print(a)\n",
    "# a = rcm.Bx(0,1,2,3,0,7,8,6,8,9,15,5)\n",
    "# print(a)\n",
    "# a = rcm.By(0,1,2,3,0,7,8,6,8,9,15,5)\n",
    "# print(a)\n",
    "# a = rcm.B(0,1,2,3,0,7,8,6,8,9,15,5)\n",
    "# print(a)"
   ]
  },
  {
   "cell_type": "code",
   "execution_count": null,
   "metadata": {},
   "outputs": [],
   "source": [
    "file_path_list_of_spectator_atoms = 'cp6t6_0p_blyp35_geom_atoms.csv'"
   ]
  },
  {
   "cell_type": "code",
   "execution_count": null,
   "metadata": {},
   "outputs": [],
   "source": [
    "import csv\n",
    "with open(file_path_list_of_spectator_atoms, mode ='r')as file:\n",
    "  csvFile = csv.reader(file)\n",
    "  for lines in csvFile:\n",
    "    print(lines)\n",
    "    for i in lines:\n",
    "      print(i)\n",
    "    break"
   ]
  },
  {
   "cell_type": "code",
   "execution_count": null,
   "metadata": {},
   "outputs": [],
   "source": [
    "def check_if_current_flow_conserved(df: pd.DataFrame) -> bool:\n",
    "\n",
    "  # first basic check if the dataframe has 3 columns.\n",
    "  assert df.shape[1] == 3, (\n",
    "    f\"The connectivity dataframe has {df.shape[1]}\"\n",
    "    f\" columns, exactly 3 are required.\"\n",
    "  )\n",
    "  \n",
    "  # check if all columns are named as they should\n",
    "  for i in ['start','end','current_weight']:\n",
    "    assert i in df.columns, (\n",
    "      f\"The connectivity dataframe does not contain\" \n",
    "      f\" expected column of name {i}.\"\n",
    "    )\n",
    "\n",
    "  # check all numbers in columns two and three\n",
    "  combined_list = pd.concat([df.start, df.end], axis=0).unique()\n",
    "\n",
    "  for i in combined_list:\n",
    "    # check how many goes in and out\n",
    "    current_in_out_balanced = (\n",
    "        sum(df.loc[df.end == i,'current_weight']) - \n",
    "        sum(df.loc[df.start == i,'current_weight'])\n",
    "      ) == 0\n",
    "    assert current_in_out_balanced, (\n",
    "        f'Current flowing in and out '\n",
    "        f'of node with index {i} '\n",
    "        f'is not conserved. '\n",
    "    )\n"
   ]
  },
  {
   "cell_type": "code",
   "execution_count": null,
   "metadata": {},
   "outputs": [],
   "source": [
    "check_if_current_flow_conserved(df)"
   ]
  },
  {
   "cell_type": "code",
   "execution_count": null,
   "metadata": {},
   "outputs": [],
   "source": []
  }
 ],
 "metadata": {
  "kernelspec": {
   "display_name": "Python 3",
   "language": "python",
   "name": "python3"
  },
  "language_info": {
   "codemirror_mode": {
    "name": "ipython",
    "version": 3
   },
   "file_extension": ".py",
   "mimetype": "text/x-python",
   "name": "python",
   "nbconvert_exporter": "python",
   "pygments_lexer": "ipython3",
   "version": "3.11.0"
  },
  "orig_nbformat": 4,
  "vscode": {
   "interpreter": {
    "hash": "cdeb256d4d6654643b931e1d6e978d9d9a0b67aac29d01cb1f9375bf1f7ecb38"
   }
  }
 },
 "nbformat": 4,
 "nbformat_minor": 2
}
