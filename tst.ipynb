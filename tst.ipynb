{
 "cells": [
  {
   "cell_type": "code",
   "execution_count": null,
   "metadata": {},
   "outputs": [],
   "source": [
    "from rdkit import Chem\n",
    "import pandas as pd\n",
    "import numpy as np\n",
    "from sympy import Polygon\n",
    "\n",
    "\n",
    "from importlib import reload\n",
    "import py3Dmol\n",
    "import rcm\n",
    "file_path_connectivity_table = 'cp6t6_0p_blyp35_geom_connectivity_global.csv'\n",
    "xyz_file_path = 'cp6t6_0p_blyp35_geom.xyz'"
   ]
  },
  {
   "attachments": {},
   "cell_type": "markdown",
   "metadata": {},
   "source": [
    "probably store xyz in pandas as x, y, z insted of numpy array. one can than easily add extra column of the B fileds associated"
   ]
  },
  {
   "cell_type": "code",
   "execution_count": null,
   "metadata": {},
   "outputs": [],
   "source": [
    "a = rcm.RCM(xyz_file_path,file_path_connectivity_table)\n",
    "mol = a.mol\n",
    "mol = Chem.RWMol(mol)\n",
    "a.get_B(0,0,0)"
   ]
  },
  {
   "cell_type": "code",
   "execution_count": null,
   "metadata": {},
   "outputs": [],
   "source": [
    "from rcm import area"
   ]
  },
  {
   "cell_type": "code",
   "execution_count": null,
   "metadata": {},
   "outputs": [],
   "source": [
    "coords_3d = np.array([\n",
    "            [ 0,  0, 0],\n",
    "            [ 2,  0, 0],\n",
    "            [ 2,  2, 0],\n",
    "            [ 0,  2, 0],\n",
    "            [ 0, -2, 0],\n",
    "            [-2, -2, 0],\n",
    "            [-5,  0, 0],\n",
    "            ])"
   ]
  },
  {
   "cell_type": "code",
   "execution_count": null,
   "metadata": {},
   "outputs": [],
   "source": [
    "area.area_3d(coords_3d)"
   ]
  },
  {
   "cell_type": "code",
   "execution_count": null,
   "metadata": {},
   "outputs": [],
   "source": []
  },
  {
   "cell_type": "code",
   "execution_count": null,
   "metadata": {},
   "outputs": [],
   "source": [
    "no_split_path = a.conn.current_weight == 1"
   ]
  },
  {
   "cell_type": "code",
   "execution_count": null,
   "metadata": {},
   "outputs": [],
   "source": [
    "sum(no_split_path)"
   ]
  },
  {
   "cell_type": "code",
   "execution_count": null,
   "metadata": {},
   "outputs": [],
   "source": [
    "df_temp = a.conn.loc[no_split_path,::]"
   ]
  },
  {
   "cell_type": "code",
   "execution_count": null,
   "metadata": {},
   "outputs": [],
   "source": [
    "df_temp.iloc[0,::].start"
   ]
  },
  {
   "cell_type": "code",
   "execution_count": null,
   "metadata": {},
   "outputs": [],
   "source": [
    "df_temp.iloc[0,::].end"
   ]
  },
  {
   "cell_type": "code",
   "execution_count": 85,
   "metadata": {},
   "outputs": [
    {
     "ename": "TypeError",
     "evalue": "cannot convert the series to <class 'int'>",
     "output_type": "error",
     "traceback": [
      "\u001b[1;31m---------------------------------------------------------------------------\u001b[0m",
      "\u001b[1;31mTypeError\u001b[0m                                 Traceback (most recent call last)",
      "Cell \u001b[1;32mIn[85], line 7\u001b[0m\n\u001b[0;32m      4\u001b[0m temp_index_depo\u001b[39m.\u001b[39mappend(temp_index)\n\u001b[0;32m      6\u001b[0m \u001b[39mwhile\u001b[39;00m \u001b[39mlen\u001b[39m(temp_index_depo) \u001b[39m<\u001b[39m \u001b[39m20\u001b[39m:\n\u001b[1;32m----> 7\u001b[0m     temp_index \u001b[39m=\u001b[39m \u001b[39mint\u001b[39;49m(df_temp\u001b[39m.\u001b[39;49mloc[df_temp\u001b[39m.\u001b[39;49mstart \u001b[39m==\u001b[39;49m temp_index,\u001b[39m'\u001b[39;49m\u001b[39mend\u001b[39;49m\u001b[39m'\u001b[39;49m])\n\u001b[0;32m      8\u001b[0m     temp_index_depo\u001b[39m.\u001b[39mappend(temp_index)\n",
      "File \u001b[1;32mc:\\MJ_python\\envs\\rcm\\Lib\\site-packages\\pandas\\core\\series.py:206\u001b[0m, in \u001b[0;36m_coerce_method.<locals>.wrapper\u001b[1;34m(self)\u001b[0m\n\u001b[0;32m    204\u001b[0m \u001b[39mif\u001b[39;00m \u001b[39mlen\u001b[39m(\u001b[39mself\u001b[39m) \u001b[39m==\u001b[39m \u001b[39m1\u001b[39m:\n\u001b[0;32m    205\u001b[0m     \u001b[39mreturn\u001b[39;00m converter(\u001b[39mself\u001b[39m\u001b[39m.\u001b[39miloc[\u001b[39m0\u001b[39m])\n\u001b[1;32m--> 206\u001b[0m \u001b[39mraise\u001b[39;00m \u001b[39mTypeError\u001b[39;00m(\u001b[39mf\u001b[39m\u001b[39m\"\u001b[39m\u001b[39mcannot convert the series to \u001b[39m\u001b[39m{\u001b[39;00mconverter\u001b[39m}\u001b[39;00m\u001b[39m\"\u001b[39m)\n",
      "\u001b[1;31mTypeError\u001b[0m: cannot convert the series to <class 'int'>"
     ]
    }
   ],
   "source": [
    "temp_index_depo = []\n",
    "\n",
    "temp_index = int(df_temp.iloc[0,::].end)\n",
    "temp_index_depo.append(temp_index)\n",
    "\n",
    "while len(temp_index_depo) < 20:\n",
    "    temp_index = int(df_temp.loc[df_temp.start == temp_index,'end'])\n",
    "    temp_index_depo.append(temp_index)\n"
   ]
  },
  {
   "cell_type": "code",
   "execution_count": 86,
   "metadata": {},
   "outputs": [
    {
     "data": {
      "text/plain": [
       "53"
      ]
     },
     "execution_count": 86,
     "metadata": {},
     "output_type": "execute_result"
    }
   ],
   "source": [
    "temp_index"
   ]
  },
  {
   "cell_type": "code",
   "execution_count": 87,
   "metadata": {},
   "outputs": [
    {
     "data": {
      "text/plain": [
       "[139, 147, 65, 59, 53]"
      ]
     },
     "execution_count": 87,
     "metadata": {},
     "output_type": "execute_result"
    }
   ],
   "source": [
    "temp_index_depo"
   ]
  },
  {
   "cell_type": "code",
   "execution_count": 88,
   "metadata": {},
   "outputs": [
    {
     "data": {
      "text/plain": [
       "Series([], Name: end, dtype: int64)"
      ]
     },
     "execution_count": 88,
     "metadata": {},
     "output_type": "execute_result"
    }
   ],
   "source": [
    "df_temp.loc[df_temp.start == temp_index,'end']"
   ]
  },
  {
   "cell_type": "code",
   "execution_count": null,
   "metadata": {},
   "outputs": [],
   "source": []
  },
  {
   "cell_type": "code",
   "execution_count": null,
   "metadata": {},
   "outputs": [],
   "source": []
  },
  {
   "cell_type": "code",
   "execution_count": null,
   "metadata": {},
   "outputs": [],
   "source": []
  },
  {
   "cell_type": "code",
   "execution_count": null,
   "metadata": {},
   "outputs": [],
   "source": []
  },
  {
   "cell_type": "code",
   "execution_count": null,
   "metadata": {},
   "outputs": [],
   "source": [
    "# xyz_view = py3Dmol.view(\n",
    "#     data=Chem.MolToMolBlock(mol), \n",
    "#     style={\"stick\": {}, \"sphere\": {\"scale\": 0.25}},\n",
    "#     width=400,height=400,\n",
    "#     )\n",
    "# xyz_view.zoomTo()"
   ]
  },
  {
   "cell_type": "code",
   "execution_count": null,
   "metadata": {},
   "outputs": [],
   "source": [
    "# #Calculate area\n",
    "# import pyny3d.geoms as pyny\n",
    "\n",
    "# coords_3d = np.array([\n",
    "#                     [0,  0, 0],\n",
    "#                     [2,  0, 0],\n",
    "#                     [2,  0, 2],\n",
    "#                     [0,  0, 2]\n",
    "#                     ])\n",
    "# polygon = pyny.Polygon(coords_3d)\n",
    "# print(f'Area is : {polygon.get_area()}')"
   ]
  }
 ],
 "metadata": {
  "kernelspec": {
   "display_name": "rcm",
   "language": "python",
   "name": "python3"
  },
  "language_info": {
   "codemirror_mode": {
    "name": "ipython",
    "version": 3
   },
   "file_extension": ".py",
   "mimetype": "text/x-python",
   "name": "python",
   "nbconvert_exporter": "python",
   "pygments_lexer": "ipython3",
   "version": "3.11.1"
  },
  "orig_nbformat": 4,
  "vscode": {
   "interpreter": {
    "hash": "4cf84784fcfd77042e78d1faaa64f0694e52e585de48d4a030b65137e955b851"
   }
  }
 },
 "nbformat": 4,
 "nbformat_minor": 2
}
